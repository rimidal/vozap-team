{
 "cells": [
  {
   "cell_type": "markdown",
   "metadata": {},
   "source": [
    "## Load libraries"
   ]
  },
  {
   "cell_type": "code",
   "execution_count": 2,
   "metadata": {},
   "outputs": [],
   "source": [
    "import torch,torchvision\n",
    "import torchvision.transforms as tr\n",
    "import matplotlib.pyplot as plt\n",
    "import numpy as np\n",
    "import PIL"
   ]
  },
  {
   "cell_type": "markdown",
   "metadata": {},
   "source": [
    "## Check cuda"
   ]
  },
  {
   "cell_type": "code",
   "execution_count": 3,
   "metadata": {},
   "outputs": [
    {
     "name": "stdout",
     "output_type": "stream",
     "text": [
      "Sun Feb 10 08:39:50 2019       \r\n",
      "+-----------------------------------------------------------------------------+\r\n",
      "| NVIDIA-SMI 410.72       Driver Version: 410.72       CUDA Version: 10.0     |\r\n",
      "|-------------------------------+----------------------+----------------------+\r\n",
      "| GPU  Name        Persistence-M| Bus-Id        Disp.A | Volatile Uncorr. ECC |\r\n",
      "| Fan  Temp  Perf  Pwr:Usage/Cap|         Memory-Usage | GPU-Util  Compute M. |\r\n",
      "|===============================+======================+======================|\r\n",
      "|   0  Tesla K80           Off  | 00000000:00:04.0 Off |                    0 |\r\n",
      "| N/A   53C    P0   128W / 149W |   4569MiB / 11441MiB |    100%      Default |\r\n",
      "+-------------------------------+----------------------+----------------------+\r\n",
      "                                                                               \r\n",
      "+-----------------------------------------------------------------------------+\r\n",
      "| Processes:                                                       GPU Memory |\r\n",
      "|  GPU       PID   Type   Process name                             Usage      |\r\n",
      "|=============================================================================|\r\n",
      "|    0      6205      C   ...r_danilov0000/.conda/envs/ml/bin/python  4558MiB |\r\n",
      "+-----------------------------------------------------------------------------+\r\n"
     ]
    }
   ],
   "source": [
    "!nvidia-smi"
   ]
  },
  {
   "cell_type": "code",
   "execution_count": 4,
   "metadata": {},
   "outputs": [
    {
     "data": {
      "text/plain": [
       "True"
      ]
     },
     "execution_count": 4,
     "metadata": {},
     "output_type": "execute_result"
    }
   ],
   "source": [
    "torch.cuda.is_available()"
   ]
  },
  {
   "cell_type": "markdown",
   "metadata": {},
   "source": [
    "## Calculate mean and standard deviation "
   ]
  },
  {
   "cell_type": "code",
   "execution_count": 5,
   "metadata": {},
   "outputs": [],
   "source": [
    "transform_prep = tr.Compose([\n",
    "\n",
    "    tr.Resize(64),\n",
    "    tr.CenterCrop(64),\n",
    "    tr.ToTensor()\n",
    "])\n",
    "loader_prep = torchvision.datasets.ImageFolder('./data/photomask_trainingdata_val/TRAIN/',\n",
    "                                             transform=transform_prep)\n",
    "data_prep = torch.utils.data.DataLoader(loader_prep, batch_size=111, shuffle=False, num_workers=4)"
   ]
  },
  {
   "cell_type": "code",
   "execution_count": 6,
   "metadata": {},
   "outputs": [],
   "source": [
    "all_images_as_numpy = next(iter(data_prep))[0].numpy()"
   ]
  },
  {
   "cell_type": "code",
   "execution_count": 7,
   "metadata": {},
   "outputs": [
    {
     "data": {
      "text/plain": [
       "(array([0.48121634, 0.48121634, 0.48121634], dtype=float32),\n",
       " array([0.20189343, 0.20189343, 0.20189343], dtype=float32))"
      ]
     },
     "execution_count": 7,
     "metadata": {},
     "output_type": "execute_result"
    }
   ],
   "source": [
    "means = np.mean(all_images_as_numpy, axis=(0,2,3))\n",
    "stds = np.std(all_images_as_numpy, axis=(0,2,3))\n",
    "means,stds "
   ]
  },
  {
   "cell_type": "code",
   "execution_count": 8,
   "metadata": {},
   "outputs": [],
   "source": [
    "BATCH_SIZE = 8"
   ]
  },
  {
   "cell_type": "markdown",
   "metadata": {},
   "source": [
    "## Prepare train data"
   ]
  },
  {
   "cell_type": "code",
   "execution_count": 9,
   "metadata": {},
   "outputs": [
    {
     "data": {
      "text/plain": [
       "'Number of batches=12, number of images=96'"
      ]
     },
     "execution_count": 9,
     "metadata": {},
     "output_type": "execute_result"
    }
   ],
   "source": [
    "augmentation_train = torchvision.transforms.Compose([\n",
    "    tr.Resize((64)),\n",
    "    tr.Pad((224-64)//2),\n",
    "    tr.ColorJitter(hue=.05, saturation=.05),\n",
    "    tr.RandomHorizontalFlip(),\n",
    "    tr.RandomVerticalFlip(),\n",
    "    tr.RandomRotation(20, resample=PIL.Image.BILINEAR),\n",
    "    tr.ToTensor(),\n",
    "    tr.Normalize(mean=means, std=stds)\n",
    "])\n",
    "loader = torchvision.datasets.ImageFolder('./data/photomask_trainingdata_val/TRAIN/',transform=augmentation_train)\n",
    "data_train = torch.utils.data.DataLoader(loader,num_workers=4,batch_size=BATCH_SIZE,shuffle=True)\n",
    "'Number of batches={}, number of images={}'.format(len(data_train),len(data_train)*BATCH_SIZE)"
   ]
  },
  {
   "cell_type": "code",
   "execution_count": 10,
   "metadata": {},
   "outputs": [],
   "source": [
    "# next(iter(data_train))[0].shape"
   ]
  },
  {
   "cell_type": "markdown",
   "metadata": {},
   "source": [
    "## Prepare validation data"
   ]
  },
  {
   "cell_type": "code",
   "execution_count": 11,
   "metadata": {},
   "outputs": [
    {
     "data": {
      "text/plain": [
       "'Number of batches=2, number of images=16'"
      ]
     },
     "execution_count": 11,
     "metadata": {},
     "output_type": "execute_result"
    }
   ],
   "source": [
    "augmentation_val = torchvision.transforms.Compose([\n",
    "    tr.Resize((64)),\n",
    "    tr.Pad((224-64)//2),\n",
    "    tr.ColorJitter(hue=.05, saturation=.05),\n",
    "    tr.RandomHorizontalFlip(),\n",
    "    tr.RandomVerticalFlip(),\n",
    "    tr.RandomRotation(20, resample=PIL.Image.BILINEAR),\n",
    "    tr.ToTensor(),\n",
    "    tr.Normalize(mean=means, std=stds)\n",
    "])\n",
    "loader = torchvision.datasets.ImageFolder('./data/photomask_trainingdata_val/VAL/',\n",
    "                                             transform=augmentation_val)\n",
    "data_val = torch.utils.data.DataLoader(loader,num_workers=4,batch_size=BATCH_SIZE)\n",
    "'Number of batches={}, number of images={}'.format(len(data_val),len(data_val)*BATCH_SIZE)"
   ]
  },
  {
   "cell_type": "code",
   "execution_count": 13,
   "metadata": {},
   "outputs": [],
   "source": [
    "test = next(iter(data_train))\n",
    "test[0].shape,len(test[0])\n",
    "image = torchvision.utils.make_grid(test[0])\n",
    "image = np.transpose(image,(1,2,0))\n",
    "# plt.imshow(image)"
   ]
  },
  {
   "cell_type": "code",
   "execution_count": 14,
   "metadata": {},
   "outputs": [],
   "source": [
    "data = {'train':data_train,'val':data_val}\n",
    "sizes = {'train':len(data_train)*BATCH_SIZE,'val':len(data_val)*BATCH_SIZE}"
   ]
  },
  {
   "cell_type": "code",
   "execution_count": 15,
   "metadata": {},
   "outputs": [
    {
     "data": {
      "text/plain": [
       "{'train': 96, 'val': 16}"
      ]
     },
     "execution_count": 15,
     "metadata": {},
     "output_type": "execute_result"
    }
   ],
   "source": [
    "sizes"
   ]
  },
  {
   "cell_type": "code",
   "execution_count": 16,
   "metadata": {},
   "outputs": [],
   "source": [
    "def train_model(model, criterion, optimizer, scheduler, num_epochs=25):\n",
    "    since = time.time()\n",
    "\n",
    "    best_model_wts = copy.deepcopy(model.state_dict())\n",
    "    best_acc = 0.0\n",
    "    history = {'val_loss':[],'train_loss':[],'val_acc':[],'train_acc':[]}\n",
    "\n",
    "    for epoch in range(num_epochs):\n",
    "        print('Epoch {}/{}'.format(epoch, num_epochs - 1))\n",
    "        print('-' * 10)\n",
    "\n",
    "        # Each epoch has a training and validation phase\n",
    "        for phase in ['train', 'val']:\n",
    "            if phase == 'train':\n",
    "                scheduler.step()\n",
    "                model.train()  # Set model to training mode\n",
    "            else:\n",
    "                model.eval()   # Set model to evaluate mode\n",
    "\n",
    "            running_loss = 0.0\n",
    "            running_corrects = 0\n",
    "\n",
    "            # Iterate over data.\n",
    "            for inputs, labels in data[phase]:\n",
    "                inputs = inputs.to(device)\n",
    "                labels = labels.to(device)\n",
    "\n",
    "                # zero the parameter gradients\n",
    "                optimizer.zero_grad()\n",
    "\n",
    "                # forward\n",
    "                # track history if only in train\n",
    "                with torch.set_grad_enabled(phase == 'train'):\n",
    "                    outputs = model(inputs)\n",
    "                    _, preds = torch.max(outputs, 1)\n",
    "                    loss = criterion(outputs, labels)\n",
    "\n",
    "                    # backward + optimize only if in training phase\n",
    "                    if phase == 'train':\n",
    "                        loss.backward()\n",
    "                        optimizer.step()\n",
    "\n",
    "                # statistics\n",
    "                running_loss += loss.item() * inputs.size(0)\n",
    "                running_corrects += torch.sum(preds == labels.data)\n",
    "\n",
    "            acc = running_corrects.double() / sizes[phase]\n",
    "            loss =  running_loss / sizes[phase]\n",
    "            epoch_loss = loss\n",
    "            epoch_acc = acc\n",
    "            \n",
    "            if phase == 'val':\n",
    "                history['val_loss'].append(loss)\n",
    "                history['val_acc'].append(acc.item())\n",
    "            else:\n",
    "                history['train_loss'].append(loss)\n",
    "                history['train_acc'].append(acc.item())\n",
    "            print('{} Loss: {:.4f} Acc: {:.4f}'.format(phase, epoch_loss, epoch_acc))\n",
    "\n",
    "            # deep copy the model\n",
    "            if phase == 'val' and epoch_acc > best_acc:\n",
    "                best_acc = epoch_acc\n",
    "                best_model_wts = copy.deepcopy(model.state_dict())\n",
    "\n",
    "        print()\n",
    "\n",
    "    time_elapsed = time.time() - since\n",
    "\n",
    "    print('Training complete in {:.0f}m {:.0f}s'.format(\n",
    "        time_elapsed // 60, time_elapsed % 60))\n",
    "    print('Best val Acc: {:4f}'.format(best_acc))\n",
    "\n",
    "    # load best model weights\n",
    "    model.load_state_dict(best_model_wts)\n",
    "    return model,history"
   ]
  },
  {
   "cell_type": "code",
   "execution_count": 17,
   "metadata": {},
   "outputs": [],
   "source": [
    "import torch.nn as nn\n",
    "import torch.nn.functional as F\n",
    "import torch.optim as optim\n",
    "from torch.optim import lr_scheduler\n"
   ]
  },
  {
   "cell_type": "code",
   "execution_count": 35,
   "metadata": {},
   "outputs": [
    {
     "data": {
      "text/html": [
       "\n",
       "    <div class=\"bk-root\">\n",
       "        <a href=\"https://bokeh.pydata.org\" target=\"_blank\" class=\"bk-logo bk-logo-small bk-logo-notebook\"></a>\n",
       "        <span id=\"2027\">Loading BokehJS ...</span>\n",
       "    </div>"
      ]
     },
     "metadata": {},
     "output_type": "display_data"
    },
    {
     "data": {
      "application/javascript": [
       "\n",
       "(function(root) {\n",
       "  function now() {\n",
       "    return new Date();\n",
       "  }\n",
       "\n",
       "  var force = true;\n",
       "\n",
       "  if (typeof (root._bokeh_onload_callbacks) === \"undefined\" || force === true) {\n",
       "    root._bokeh_onload_callbacks = [];\n",
       "    root._bokeh_is_loading = undefined;\n",
       "  }\n",
       "\n",
       "  var JS_MIME_TYPE = 'application/javascript';\n",
       "  var HTML_MIME_TYPE = 'text/html';\n",
       "  var EXEC_MIME_TYPE = 'application/vnd.bokehjs_exec.v0+json';\n",
       "  var CLASS_NAME = 'output_bokeh rendered_html';\n",
       "\n",
       "  /**\n",
       "   * Render data to the DOM node\n",
       "   */\n",
       "  function render(props, node) {\n",
       "    var script = document.createElement(\"script\");\n",
       "    node.appendChild(script);\n",
       "  }\n",
       "\n",
       "  /**\n",
       "   * Handle when an output is cleared or removed\n",
       "   */\n",
       "  function handleClearOutput(event, handle) {\n",
       "    var cell = handle.cell;\n",
       "\n",
       "    var id = cell.output_area._bokeh_element_id;\n",
       "    var server_id = cell.output_area._bokeh_server_id;\n",
       "    // Clean up Bokeh references\n",
       "    if (id != null && id in Bokeh.index) {\n",
       "      Bokeh.index[id].model.document.clear();\n",
       "      delete Bokeh.index[id];\n",
       "    }\n",
       "\n",
       "    if (server_id !== undefined) {\n",
       "      // Clean up Bokeh references\n",
       "      var cmd = \"from bokeh.io.state import curstate; print(curstate().uuid_to_server['\" + server_id + \"'].get_sessions()[0].document.roots[0]._id)\";\n",
       "      cell.notebook.kernel.execute(cmd, {\n",
       "        iopub: {\n",
       "          output: function(msg) {\n",
       "            var id = msg.content.text.trim();\n",
       "            if (id in Bokeh.index) {\n",
       "              Bokeh.index[id].model.document.clear();\n",
       "              delete Bokeh.index[id];\n",
       "            }\n",
       "          }\n",
       "        }\n",
       "      });\n",
       "      // Destroy server and session\n",
       "      var cmd = \"import bokeh.io.notebook as ion; ion.destroy_server('\" + server_id + \"')\";\n",
       "      cell.notebook.kernel.execute(cmd);\n",
       "    }\n",
       "  }\n",
       "\n",
       "  /**\n",
       "   * Handle when a new output is added\n",
       "   */\n",
       "  function handleAddOutput(event, handle) {\n",
       "    var output_area = handle.output_area;\n",
       "    var output = handle.output;\n",
       "\n",
       "    // limit handleAddOutput to display_data with EXEC_MIME_TYPE content only\n",
       "    if ((output.output_type != \"display_data\") || (!output.data.hasOwnProperty(EXEC_MIME_TYPE))) {\n",
       "      return\n",
       "    }\n",
       "\n",
       "    var toinsert = output_area.element.find(\".\" + CLASS_NAME.split(' ')[0]);\n",
       "\n",
       "    if (output.metadata[EXEC_MIME_TYPE][\"id\"] !== undefined) {\n",
       "      toinsert[toinsert.length - 1].firstChild.textContent = output.data[JS_MIME_TYPE];\n",
       "      // store reference to embed id on output_area\n",
       "      output_area._bokeh_element_id = output.metadata[EXEC_MIME_TYPE][\"id\"];\n",
       "    }\n",
       "    if (output.metadata[EXEC_MIME_TYPE][\"server_id\"] !== undefined) {\n",
       "      var bk_div = document.createElement(\"div\");\n",
       "      bk_div.innerHTML = output.data[HTML_MIME_TYPE];\n",
       "      var script_attrs = bk_div.children[0].attributes;\n",
       "      for (var i = 0; i < script_attrs.length; i++) {\n",
       "        toinsert[toinsert.length - 1].firstChild.setAttribute(script_attrs[i].name, script_attrs[i].value);\n",
       "      }\n",
       "      // store reference to server id on output_area\n",
       "      output_area._bokeh_server_id = output.metadata[EXEC_MIME_TYPE][\"server_id\"];\n",
       "    }\n",
       "  }\n",
       "\n",
       "  function register_renderer(events, OutputArea) {\n",
       "\n",
       "    function append_mime(data, metadata, element) {\n",
       "      // create a DOM node to render to\n",
       "      var toinsert = this.create_output_subarea(\n",
       "        metadata,\n",
       "        CLASS_NAME,\n",
       "        EXEC_MIME_TYPE\n",
       "      );\n",
       "      this.keyboard_manager.register_events(toinsert);\n",
       "      // Render to node\n",
       "      var props = {data: data, metadata: metadata[EXEC_MIME_TYPE]};\n",
       "      render(props, toinsert[toinsert.length - 1]);\n",
       "      element.append(toinsert);\n",
       "      return toinsert\n",
       "    }\n",
       "\n",
       "    /* Handle when an output is cleared or removed */\n",
       "    events.on('clear_output.CodeCell', handleClearOutput);\n",
       "    events.on('delete.Cell', handleClearOutput);\n",
       "\n",
       "    /* Handle when a new output is added */\n",
       "    events.on('output_added.OutputArea', handleAddOutput);\n",
       "\n",
       "    /**\n",
       "     * Register the mime type and append_mime function with output_area\n",
       "     */\n",
       "    OutputArea.prototype.register_mime_type(EXEC_MIME_TYPE, append_mime, {\n",
       "      /* Is output safe? */\n",
       "      safe: true,\n",
       "      /* Index of renderer in `output_area.display_order` */\n",
       "      index: 0\n",
       "    });\n",
       "  }\n",
       "\n",
       "  // register the mime type if in Jupyter Notebook environment and previously unregistered\n",
       "  if (root.Jupyter !== undefined) {\n",
       "    var events = require('base/js/events');\n",
       "    var OutputArea = require('notebook/js/outputarea').OutputArea;\n",
       "\n",
       "    if (OutputArea.prototype.mime_types().indexOf(EXEC_MIME_TYPE) == -1) {\n",
       "      register_renderer(events, OutputArea);\n",
       "    }\n",
       "  }\n",
       "\n",
       "  \n",
       "  if (typeof (root._bokeh_timeout) === \"undefined\" || force === true) {\n",
       "    root._bokeh_timeout = Date.now() + 5000;\n",
       "    root._bokeh_failed_load = false;\n",
       "  }\n",
       "\n",
       "  var NB_LOAD_WARNING = {'data': {'text/html':\n",
       "     \"<div style='background-color: #fdd'>\\n\"+\n",
       "     \"<p>\\n\"+\n",
       "     \"BokehJS does not appear to have successfully loaded. If loading BokehJS from CDN, this \\n\"+\n",
       "     \"may be due to a slow or bad network connection. Possible fixes:\\n\"+\n",
       "     \"</p>\\n\"+\n",
       "     \"<ul>\\n\"+\n",
       "     \"<li>re-rerun `output_notebook()` to attempt to load from CDN again, or</li>\\n\"+\n",
       "     \"<li>use INLINE resources instead, as so:</li>\\n\"+\n",
       "     \"</ul>\\n\"+\n",
       "     \"<code>\\n\"+\n",
       "     \"from bokeh.resources import INLINE\\n\"+\n",
       "     \"output_notebook(resources=INLINE)\\n\"+\n",
       "     \"</code>\\n\"+\n",
       "     \"</div>\"}};\n",
       "\n",
       "  function display_loaded() {\n",
       "    var el = document.getElementById(\"2027\");\n",
       "    if (el != null) {\n",
       "      el.textContent = \"BokehJS is loading...\";\n",
       "    }\n",
       "    if (root.Bokeh !== undefined) {\n",
       "      if (el != null) {\n",
       "        el.textContent = \"BokehJS \" + root.Bokeh.version + \" successfully loaded.\";\n",
       "      }\n",
       "    } else if (Date.now() < root._bokeh_timeout) {\n",
       "      setTimeout(display_loaded, 100)\n",
       "    }\n",
       "  }\n",
       "\n",
       "\n",
       "  function run_callbacks() {\n",
       "    try {\n",
       "      root._bokeh_onload_callbacks.forEach(function(callback) { callback() });\n",
       "    }\n",
       "    finally {\n",
       "      delete root._bokeh_onload_callbacks\n",
       "    }\n",
       "    console.info(\"Bokeh: all callbacks have finished\");\n",
       "  }\n",
       "\n",
       "  function load_libs(js_urls, callback) {\n",
       "    root._bokeh_onload_callbacks.push(callback);\n",
       "    if (root._bokeh_is_loading > 0) {\n",
       "      console.log(\"Bokeh: BokehJS is being loaded, scheduling callback at\", now());\n",
       "      return null;\n",
       "    }\n",
       "    if (js_urls == null || js_urls.length === 0) {\n",
       "      run_callbacks();\n",
       "      return null;\n",
       "    }\n",
       "    console.log(\"Bokeh: BokehJS not loaded, scheduling load and callback at\", now());\n",
       "    root._bokeh_is_loading = js_urls.length;\n",
       "    for (var i = 0; i < js_urls.length; i++) {\n",
       "      var url = js_urls[i];\n",
       "      var s = document.createElement('script');\n",
       "      s.src = url;\n",
       "      s.async = false;\n",
       "      s.onreadystatechange = s.onload = function() {\n",
       "        root._bokeh_is_loading--;\n",
       "        if (root._bokeh_is_loading === 0) {\n",
       "          console.log(\"Bokeh: all BokehJS libraries loaded\");\n",
       "          run_callbacks()\n",
       "        }\n",
       "      };\n",
       "      s.onerror = function() {\n",
       "        console.warn(\"failed to load library \" + url);\n",
       "      };\n",
       "      console.log(\"Bokeh: injecting script tag for BokehJS library: \", url);\n",
       "      document.getElementsByTagName(\"head\")[0].appendChild(s);\n",
       "    }\n",
       "  };var element = document.getElementById(\"2027\");\n",
       "  if (element == null) {\n",
       "    console.log(\"Bokeh: ERROR: autoload.js configured with elementid '2027' but no matching script tag was found. \")\n",
       "    return false;\n",
       "  }\n",
       "\n",
       "  var js_urls = [\"https://cdn.pydata.org/bokeh/release/bokeh-1.0.4.min.js\", \"https://cdn.pydata.org/bokeh/release/bokeh-widgets-1.0.4.min.js\", \"https://cdn.pydata.org/bokeh/release/bokeh-tables-1.0.4.min.js\", \"https://cdn.pydata.org/bokeh/release/bokeh-gl-1.0.4.min.js\"];\n",
       "\n",
       "  var inline_js = [\n",
       "    function(Bokeh) {\n",
       "      Bokeh.set_log_level(\"info\");\n",
       "    },\n",
       "    \n",
       "    function(Bokeh) {\n",
       "      \n",
       "    },\n",
       "    function(Bokeh) {\n",
       "      console.log(\"Bokeh: injecting CSS: https://cdn.pydata.org/bokeh/release/bokeh-1.0.4.min.css\");\n",
       "      Bokeh.embed.inject_css(\"https://cdn.pydata.org/bokeh/release/bokeh-1.0.4.min.css\");\n",
       "      console.log(\"Bokeh: injecting CSS: https://cdn.pydata.org/bokeh/release/bokeh-widgets-1.0.4.min.css\");\n",
       "      Bokeh.embed.inject_css(\"https://cdn.pydata.org/bokeh/release/bokeh-widgets-1.0.4.min.css\");\n",
       "      console.log(\"Bokeh: injecting CSS: https://cdn.pydata.org/bokeh/release/bokeh-tables-1.0.4.min.css\");\n",
       "      Bokeh.embed.inject_css(\"https://cdn.pydata.org/bokeh/release/bokeh-tables-1.0.4.min.css\");\n",
       "    }\n",
       "  ];\n",
       "\n",
       "  function run_inline_js() {\n",
       "    \n",
       "    if ((root.Bokeh !== undefined) || (force === true)) {\n",
       "      for (var i = 0; i < inline_js.length; i++) {\n",
       "        inline_js[i].call(root, root.Bokeh);\n",
       "      }if (force === true) {\n",
       "        display_loaded();\n",
       "      }} else if (Date.now() < root._bokeh_timeout) {\n",
       "      setTimeout(run_inline_js, 100);\n",
       "    } else if (!root._bokeh_failed_load) {\n",
       "      console.log(\"Bokeh: BokehJS failed to load within specified timeout.\");\n",
       "      root._bokeh_failed_load = true;\n",
       "    } else if (force !== true) {\n",
       "      var cell = $(document.getElementById(\"2027\")).parents('.cell').data().cell;\n",
       "      cell.output_area.append_execute_result(NB_LOAD_WARNING)\n",
       "    }\n",
       "\n",
       "  }\n",
       "\n",
       "  if (root._bokeh_is_loading === 0) {\n",
       "    console.log(\"Bokeh: BokehJS loaded, going straight to plotting\");\n",
       "    run_inline_js();\n",
       "  } else {\n",
       "    load_libs(js_urls, function() {\n",
       "      console.log(\"Bokeh: BokehJS plotting callback run at\", now());\n",
       "      run_inline_js();\n",
       "    });\n",
       "  }\n",
       "}(window));"
      ],
      "application/vnd.bokehjs_load.v0+json": "\n(function(root) {\n  function now() {\n    return new Date();\n  }\n\n  var force = true;\n\n  if (typeof (root._bokeh_onload_callbacks) === \"undefined\" || force === true) {\n    root._bokeh_onload_callbacks = [];\n    root._bokeh_is_loading = undefined;\n  }\n\n  \n\n  \n  if (typeof (root._bokeh_timeout) === \"undefined\" || force === true) {\n    root._bokeh_timeout = Date.now() + 5000;\n    root._bokeh_failed_load = false;\n  }\n\n  var NB_LOAD_WARNING = {'data': {'text/html':\n     \"<div style='background-color: #fdd'>\\n\"+\n     \"<p>\\n\"+\n     \"BokehJS does not appear to have successfully loaded. If loading BokehJS from CDN, this \\n\"+\n     \"may be due to a slow or bad network connection. Possible fixes:\\n\"+\n     \"</p>\\n\"+\n     \"<ul>\\n\"+\n     \"<li>re-rerun `output_notebook()` to attempt to load from CDN again, or</li>\\n\"+\n     \"<li>use INLINE resources instead, as so:</li>\\n\"+\n     \"</ul>\\n\"+\n     \"<code>\\n\"+\n     \"from bokeh.resources import INLINE\\n\"+\n     \"output_notebook(resources=INLINE)\\n\"+\n     \"</code>\\n\"+\n     \"</div>\"}};\n\n  function display_loaded() {\n    var el = document.getElementById(\"2027\");\n    if (el != null) {\n      el.textContent = \"BokehJS is loading...\";\n    }\n    if (root.Bokeh !== undefined) {\n      if (el != null) {\n        el.textContent = \"BokehJS \" + root.Bokeh.version + \" successfully loaded.\";\n      }\n    } else if (Date.now() < root._bokeh_timeout) {\n      setTimeout(display_loaded, 100)\n    }\n  }\n\n\n  function run_callbacks() {\n    try {\n      root._bokeh_onload_callbacks.forEach(function(callback) { callback() });\n    }\n    finally {\n      delete root._bokeh_onload_callbacks\n    }\n    console.info(\"Bokeh: all callbacks have finished\");\n  }\n\n  function load_libs(js_urls, callback) {\n    root._bokeh_onload_callbacks.push(callback);\n    if (root._bokeh_is_loading > 0) {\n      console.log(\"Bokeh: BokehJS is being loaded, scheduling callback at\", now());\n      return null;\n    }\n    if (js_urls == null || js_urls.length === 0) {\n      run_callbacks();\n      return null;\n    }\n    console.log(\"Bokeh: BokehJS not loaded, scheduling load and callback at\", now());\n    root._bokeh_is_loading = js_urls.length;\n    for (var i = 0; i < js_urls.length; i++) {\n      var url = js_urls[i];\n      var s = document.createElement('script');\n      s.src = url;\n      s.async = false;\n      s.onreadystatechange = s.onload = function() {\n        root._bokeh_is_loading--;\n        if (root._bokeh_is_loading === 0) {\n          console.log(\"Bokeh: all BokehJS libraries loaded\");\n          run_callbacks()\n        }\n      };\n      s.onerror = function() {\n        console.warn(\"failed to load library \" + url);\n      };\n      console.log(\"Bokeh: injecting script tag for BokehJS library: \", url);\n      document.getElementsByTagName(\"head\")[0].appendChild(s);\n    }\n  };var element = document.getElementById(\"2027\");\n  if (element == null) {\n    console.log(\"Bokeh: ERROR: autoload.js configured with elementid '2027' but no matching script tag was found. \")\n    return false;\n  }\n\n  var js_urls = [\"https://cdn.pydata.org/bokeh/release/bokeh-1.0.4.min.js\", \"https://cdn.pydata.org/bokeh/release/bokeh-widgets-1.0.4.min.js\", \"https://cdn.pydata.org/bokeh/release/bokeh-tables-1.0.4.min.js\", \"https://cdn.pydata.org/bokeh/release/bokeh-gl-1.0.4.min.js\"];\n\n  var inline_js = [\n    function(Bokeh) {\n      Bokeh.set_log_level(\"info\");\n    },\n    \n    function(Bokeh) {\n      \n    },\n    function(Bokeh) {\n      console.log(\"Bokeh: injecting CSS: https://cdn.pydata.org/bokeh/release/bokeh-1.0.4.min.css\");\n      Bokeh.embed.inject_css(\"https://cdn.pydata.org/bokeh/release/bokeh-1.0.4.min.css\");\n      console.log(\"Bokeh: injecting CSS: https://cdn.pydata.org/bokeh/release/bokeh-widgets-1.0.4.min.css\");\n      Bokeh.embed.inject_css(\"https://cdn.pydata.org/bokeh/release/bokeh-widgets-1.0.4.min.css\");\n      console.log(\"Bokeh: injecting CSS: https://cdn.pydata.org/bokeh/release/bokeh-tables-1.0.4.min.css\");\n      Bokeh.embed.inject_css(\"https://cdn.pydata.org/bokeh/release/bokeh-tables-1.0.4.min.css\");\n    }\n  ];\n\n  function run_inline_js() {\n    \n    if ((root.Bokeh !== undefined) || (force === true)) {\n      for (var i = 0; i < inline_js.length; i++) {\n        inline_js[i].call(root, root.Bokeh);\n      }if (force === true) {\n        display_loaded();\n      }} else if (Date.now() < root._bokeh_timeout) {\n      setTimeout(run_inline_js, 100);\n    } else if (!root._bokeh_failed_load) {\n      console.log(\"Bokeh: BokehJS failed to load within specified timeout.\");\n      root._bokeh_failed_load = true;\n    } else if (force !== true) {\n      var cell = $(document.getElementById(\"2027\")).parents('.cell').data().cell;\n      cell.output_area.append_execute_result(NB_LOAD_WARNING)\n    }\n\n  }\n\n  if (root._bokeh_is_loading === 0) {\n    console.log(\"Bokeh: BokehJS loaded, going straight to plotting\");\n    run_inline_js();\n  } else {\n    load_libs(js_urls, function() {\n      console.log(\"Bokeh: BokehJS plotting callback run at\", now());\n      run_inline_js();\n    });\n  }\n}(window));"
     },
     "metadata": {},
     "output_type": "display_data"
    }
   ],
   "source": [
    "from bokeh.plotting import figure\n",
    "from bokeh.io import output_notebook, show,save\n",
    "output_notebook()"
   ]
  },
  {
   "cell_type": "code",
   "execution_count": 19,
   "metadata": {
    "scrolled": true
   },
   "outputs": [],
   "source": [
    "import time\n",
    "import copy\n"
   ]
  },
  {
   "cell_type": "markdown",
   "metadata": {},
   "source": [
    "## Trying pretrained network"
   ]
  },
  {
   "cell_type": "code",
   "execution_count": 20,
   "metadata": {},
   "outputs": [],
   "source": [
    "vgg = torchvision.models.vgg11(pretrained=True)"
   ]
  },
  {
   "cell_type": "code",
   "execution_count": 21,
   "metadata": {},
   "outputs": [
    {
     "data": {
      "text/plain": [
       "4096"
      ]
     },
     "execution_count": 21,
     "metadata": {},
     "output_type": "execute_result"
    }
   ],
   "source": [
    "vgg.classifier[6].in_features"
   ]
  },
  {
   "cell_type": "code",
   "execution_count": 48,
   "metadata": {},
   "outputs": [
    {
     "name": "stdout",
     "output_type": "stream",
     "text": [
      "cuda:0\n"
     ]
    }
   ],
   "source": [
    "device = torch.device(\"cuda:0\" if torch.cuda.is_available() else \"cpu\")\n",
    "print (device)"
   ]
  },
  {
   "cell_type": "code",
   "execution_count": 50,
   "metadata": {},
   "outputs": [],
   "source": [
    "sf  = nn.Softmax()"
   ]
  },
  {
   "cell_type": "code",
   "execution_count": 23,
   "metadata": {},
   "outputs": [],
   "source": [
    "criterion = nn.CrossEntropyLoss()\n",
    "\n",
    "optimizer_ft = optim.SGD(vgg.parameters(), lr=0.001, momentum=0.9)\n",
    "\n",
    "exp_lr_scheduler = lr_scheduler.StepLR(optimizer_ft, step_size=7, gamma=0.1)\n",
    "vgg.classifier[6] = nn.Linear(4096, 3)\n",
    "\n",
    "vgg = vgg.to(device)"
   ]
  },
  {
   "cell_type": "code",
   "execution_count": 24,
   "metadata": {
    "scrolled": true
   },
   "outputs": [
    {
     "name": "stdout",
     "output_type": "stream",
     "text": [
      "Epoch 0/9\n",
      "----------\n",
      "train Loss: 0.9457 Acc: 0.6042\n",
      "val Loss: 0.9269 Acc: 0.6250\n",
      "\n",
      "Epoch 1/9\n",
      "----------\n",
      "train Loss: 0.7931 Acc: 0.6771\n",
      "val Loss: 0.9316 Acc: 0.6250\n",
      "\n",
      "Epoch 2/9\n",
      "----------\n",
      "train Loss: 0.6952 Acc: 0.7292\n",
      "val Loss: 0.6923 Acc: 0.6250\n",
      "\n",
      "Epoch 3/9\n",
      "----------\n",
      "train Loss: 0.5557 Acc: 0.7396\n",
      "val Loss: 0.5704 Acc: 0.8125\n",
      "\n",
      "Epoch 4/9\n",
      "----------\n",
      "train Loss: 0.4235 Acc: 0.8125\n",
      "val Loss: 0.5070 Acc: 0.6875\n",
      "\n",
      "Epoch 5/9\n",
      "----------\n",
      "train Loss: 0.4330 Acc: 0.7917\n",
      "val Loss: 0.3409 Acc: 0.9375\n",
      "\n",
      "Epoch 6/9\n",
      "----------\n",
      "train Loss: 0.3534 Acc: 0.8333\n",
      "val Loss: 0.2958 Acc: 0.8125\n",
      "\n",
      "Epoch 7/9\n",
      "----------\n",
      "train Loss: 0.3031 Acc: 0.8125\n",
      "val Loss: 0.2990 Acc: 0.8125\n",
      "\n",
      "Epoch 8/9\n",
      "----------\n",
      "train Loss: 0.2818 Acc: 0.8750\n",
      "val Loss: 0.3140 Acc: 0.8750\n",
      "\n",
      "Epoch 9/9\n",
      "----------\n",
      "train Loss: 0.2546 Acc: 0.8542\n",
      "val Loss: 0.2564 Acc: 0.9375\n",
      "\n",
      "Training complete in 1m 19s\n",
      "Best val Acc: 0.937500\n"
     ]
    }
   ],
   "source": [
    "model_ft,his = train_model(vgg, criterion, optimizer_ft,\n",
    "                       exp_lr_scheduler,num_epochs=10)"
   ]
  },
  {
   "cell_type": "code",
   "execution_count": 47,
   "metadata": {},
   "outputs": [
    {
     "name": "stdout",
     "output_type": "stream",
     "text": [
      "----------------------------------------------------------------\n",
      "        Layer (type)               Output Shape         Param #\n",
      "================================================================\n",
      "            Conv2d-1          [8, 64, 224, 244]           1,792\n",
      "              ReLU-2          [8, 64, 224, 244]               0\n",
      "         MaxPool2d-3          [8, 64, 112, 122]               0\n",
      "            Conv2d-4         [8, 128, 112, 122]          73,856\n",
      "              ReLU-5         [8, 128, 112, 122]               0\n",
      "         MaxPool2d-6           [8, 128, 56, 61]               0\n",
      "            Conv2d-7           [8, 256, 56, 61]         295,168\n",
      "              ReLU-8           [8, 256, 56, 61]               0\n",
      "            Conv2d-9           [8, 256, 56, 61]         590,080\n",
      "             ReLU-10           [8, 256, 56, 61]               0\n",
      "        MaxPool2d-11           [8, 256, 28, 30]               0\n",
      "           Conv2d-12           [8, 512, 28, 30]       1,180,160\n",
      "             ReLU-13           [8, 512, 28, 30]               0\n",
      "           Conv2d-14           [8, 512, 28, 30]       2,359,808\n",
      "             ReLU-15           [8, 512, 28, 30]               0\n",
      "        MaxPool2d-16           [8, 512, 14, 15]               0\n",
      "           Conv2d-17           [8, 512, 14, 15]       2,359,808\n",
      "             ReLU-18           [8, 512, 14, 15]               0\n",
      "           Conv2d-19           [8, 512, 14, 15]       2,359,808\n",
      "             ReLU-20           [8, 512, 14, 15]               0\n",
      "        MaxPool2d-21             [8, 512, 7, 7]               0\n",
      "           Linear-22                  [8, 4096]     102,764,544\n",
      "             ReLU-23                  [8, 4096]               0\n",
      "          Dropout-24                  [8, 4096]               0\n",
      "           Linear-25                  [8, 4096]      16,781,312\n",
      "             ReLU-26                  [8, 4096]               0\n",
      "          Dropout-27                  [8, 4096]               0\n",
      "           Linear-28                     [8, 3]          12,291\n",
      "================================================================\n",
      "Total params: 128,778,627\n",
      "Trainable params: 128,778,627\n",
      "Non-trainable params: 0\n",
      "----------------------------------------------------------------\n",
      "Input size (MB): 5.00\n",
      "Forward/backward pass size (MB): 1088.03\n",
      "Params size (MB): 491.25\n",
      "Estimated Total Size (MB): 1584.29\n",
      "----------------------------------------------------------------\n"
     ]
    }
   ],
   "source": [
    "import torchsummary\n",
    "torchsummary.summary(vgg,(3,224,244),BATCH_SIZE)"
   ]
  },
  {
   "cell_type": "code",
   "execution_count": 53,
   "metadata": {},
   "outputs": [
    {
     "data": {
      "text/html": [
       "\n",
       "\n",
       "\n",
       "\n",
       "\n",
       "\n",
       "  <div class=\"bk-root\" id=\"7e8f4ec7-6caf-4e05-b0c9-421719210fcd\" data-root-id=\"3193\"></div>\n"
      ]
     },
     "metadata": {},
     "output_type": "display_data"
    },
    {
     "data": {
      "application/javascript": [
       "(function(root) {\n",
       "  function embed_document(root) {\n",
       "    \n",
       "  var docs_json = {\"80f4032e-719b-494e-9e88-22e4ccbd3366\":{\"roots\":{\"references\":[{\"attributes\":{\"below\":[{\"id\":\"3203\",\"type\":\"LinearAxis\"}],\"left\":[{\"id\":\"3208\",\"type\":\"LinearAxis\"}],\"plot_height\":400,\"renderers\":[{\"id\":\"3203\",\"type\":\"LinearAxis\"},{\"id\":\"3207\",\"type\":\"Grid\"},{\"id\":\"3208\",\"type\":\"LinearAxis\"},{\"id\":\"3212\",\"type\":\"Grid\"},{\"id\":\"3221\",\"type\":\"BoxAnnotation\"},{\"id\":\"3231\",\"type\":\"GlyphRenderer\"},{\"id\":\"3246\",\"type\":\"Legend\"},{\"id\":\"3236\",\"type\":\"GlyphRenderer\"},{\"id\":\"3251\",\"type\":\"GlyphRenderer\"},{\"id\":\"3256\",\"type\":\"GlyphRenderer\"}],\"title\":{\"id\":\"3192\",\"type\":\"Title\"},\"toolbar\":{\"id\":\"3219\",\"type\":\"Toolbar\"},\"x_range\":{\"id\":\"3195\",\"type\":\"DataRange1d\"},\"x_scale\":{\"id\":\"3199\",\"type\":\"LinearScale\"},\"y_range\":{\"id\":\"3197\",\"type\":\"DataRange1d\"},\"y_scale\":{\"id\":\"3201\",\"type\":\"LinearScale\"}},\"id\":\"3193\",\"subtype\":\"Figure\",\"type\":\"Plot\"},{\"attributes\":{\"line_color\":\"#1f77b4\",\"line_width\":2,\"x\":{\"field\":\"x\"},\"y\":{\"field\":\"y\"}},\"id\":\"3234\",\"type\":\"Line\"},{\"attributes\":{\"data_source\":{\"id\":\"3233\",\"type\":\"ColumnDataSource\"},\"glyph\":{\"id\":\"3234\",\"type\":\"Line\"},\"hover_glyph\":null,\"muted_glyph\":null,\"nonselection_glyph\":{\"id\":\"3235\",\"type\":\"Line\"},\"selection_glyph\":null,\"view\":{\"id\":\"3237\",\"type\":\"CDSView\"}},\"id\":\"3236\",\"type\":\"GlyphRenderer\"},{\"attributes\":{\"source\":{\"id\":\"3253\",\"type\":\"ColumnDataSource\"}},\"id\":\"3257\",\"type\":\"CDSView\"},{\"attributes\":{\"data_source\":{\"id\":\"3253\",\"type\":\"ColumnDataSource\"},\"glyph\":{\"id\":\"3254\",\"type\":\"Line\"},\"hover_glyph\":null,\"muted_glyph\":null,\"nonselection_glyph\":{\"id\":\"3255\",\"type\":\"Line\"},\"selection_glyph\":null,\"view\":{\"id\":\"3257\",\"type\":\"CDSView\"}},\"id\":\"3256\",\"type\":\"GlyphRenderer\"},{\"attributes\":{\"source\":{\"id\":\"3233\",\"type\":\"ColumnDataSource\"}},\"id\":\"3237\",\"type\":\"CDSView\"},{\"attributes\":{},\"id\":\"3218\",\"type\":\"HelpTool\"},{\"attributes\":{},\"id\":\"3217\",\"type\":\"ResetTool\"},{\"attributes\":{\"active_drag\":\"auto\",\"active_inspect\":\"auto\",\"active_multi\":null,\"active_scroll\":\"auto\",\"active_tap\":\"auto\",\"tools\":[{\"id\":\"3213\",\"type\":\"PanTool\"},{\"id\":\"3214\",\"type\":\"WheelZoomTool\"},{\"id\":\"3215\",\"type\":\"BoxZoomTool\"},{\"id\":\"3216\",\"type\":\"SaveTool\"},{\"id\":\"3217\",\"type\":\"ResetTool\"},{\"id\":\"3218\",\"type\":\"HelpTool\"}]},\"id\":\"3219\",\"type\":\"Toolbar\"},{\"attributes\":{\"fill_alpha\":{\"value\":0.1},\"fill_color\":{\"value\":\"#1f77b4\"},\"line_alpha\":{\"value\":0.1},\"line_color\":{\"value\":\"#1f77b4\"},\"size\":{\"units\":\"screen\",\"value\":10},\"x\":{\"field\":\"x\"},\"y\":{\"field\":\"y\"}},\"id\":\"3230\",\"type\":\"Circle\"},{\"attributes\":{\"data_source\":{\"id\":\"3228\",\"type\":\"ColumnDataSource\"},\"glyph\":{\"id\":\"3229\",\"type\":\"Circle\"},\"hover_glyph\":null,\"muted_glyph\":null,\"nonselection_glyph\":{\"id\":\"3230\",\"type\":\"Circle\"},\"selection_glyph\":null,\"view\":{\"id\":\"3232\",\"type\":\"CDSView\"}},\"id\":\"3231\",\"type\":\"GlyphRenderer\"},{\"attributes\":{\"items\":[{\"id\":\"3247\",\"type\":\"LegendItem\"},{\"id\":\"3270\",\"type\":\"LegendItem\"}],\"plot\":{\"id\":\"3193\",\"subtype\":\"Figure\",\"type\":\"Plot\"}},\"id\":\"3246\",\"type\":\"Legend\"},{\"attributes\":{\"bottom_units\":\"screen\",\"fill_alpha\":{\"value\":0.5},\"fill_color\":{\"value\":\"lightgrey\"},\"left_units\":\"screen\",\"level\":\"overlay\",\"line_alpha\":{\"value\":1.0},\"line_color\":{\"value\":\"black\"},\"line_dash\":[4,4],\"line_width\":{\"value\":2},\"plot\":null,\"render_mode\":\"css\",\"right_units\":\"screen\",\"top_units\":\"screen\"},\"id\":\"3221\",\"type\":\"BoxAnnotation\"},{\"attributes\":{\"callback\":null,\"data\":{\"x\":[0,1,2,3,4,5,6,7,8,9],\"y\":[0.9456564610203108,0.7930684182792902,0.6951596960425377,0.5557438464214405,0.4235455250988404,0.43295726164554554,0.3534300155006349,0.30309441685676575,0.28181390328488004,0.2546161781841268]},\"selected\":{\"id\":\"3268\",\"type\":\"Selection\"},\"selection_policy\":{\"id\":\"3267\",\"type\":\"UnionRenderers\"}},\"id\":\"3248\",\"type\":\"ColumnDataSource\"},{\"attributes\":{},\"id\":\"3265\",\"type\":\"UnionRenderers\"},{\"attributes\":{},\"id\":\"3213\",\"type\":\"PanTool\"},{\"attributes\":{},\"id\":\"3243\",\"type\":\"UnionRenderers\"},{\"attributes\":{\"label\":{\"value\":\"train\"},\"renderers\":[{\"id\":\"3256\",\"type\":\"GlyphRenderer\"}]},\"id\":\"3270\",\"type\":\"LegendItem\"},{\"attributes\":{\"callback\":null,\"data\":{\"x\":[0,1,2,3,4,5,6,7,8,9],\"y\":[0.9268909394741058,0.9316451549530029,0.692301869392395,0.5703824311494827,0.5069581270217896,0.3409304767847061,0.2958236485719681,0.29897379875183105,0.3140086978673935,0.2564016133546829]},\"selected\":{\"id\":\"3266\",\"type\":\"Selection\"},\"selection_policy\":{\"id\":\"3265\",\"type\":\"UnionRenderers\"}},\"id\":\"3233\",\"type\":\"ColumnDataSource\"},{\"attributes\":{\"source\":{\"id\":\"3228\",\"type\":\"ColumnDataSource\"}},\"id\":\"3232\",\"type\":\"CDSView\"},{\"attributes\":{\"label\":{\"value\":\"val\"},\"renderers\":[{\"id\":\"3236\",\"type\":\"GlyphRenderer\"}]},\"id\":\"3247\",\"type\":\"LegendItem\"},{\"attributes\":{\"fill_alpha\":{\"value\":0.5},\"fill_color\":{\"value\":\"orange\"},\"line_color\":{\"value\":\"navy\"},\"size\":{\"units\":\"screen\",\"value\":10},\"x\":{\"field\":\"x\"},\"y\":{\"field\":\"y\"}},\"id\":\"3249\",\"type\":\"Circle\"},{\"attributes\":{\"dimension\":1,\"plot\":{\"id\":\"3193\",\"subtype\":\"Figure\",\"type\":\"Plot\"},\"ticker\":{\"id\":\"3209\",\"type\":\"BasicTicker\"}},\"id\":\"3212\",\"type\":\"Grid\"},{\"attributes\":{\"line_alpha\":0.1,\"line_color\":\"#1f77b4\",\"line_width\":2,\"x\":{\"field\":\"x\"},\"y\":{\"field\":\"y\"}},\"id\":\"3235\",\"type\":\"Line\"},{\"attributes\":{},\"id\":\"3266\",\"type\":\"Selection\"},{\"attributes\":{},\"id\":\"3201\",\"type\":\"LinearScale\"},{\"attributes\":{\"fill_alpha\":{\"value\":0.1},\"fill_color\":{\"value\":\"#1f77b4\"},\"line_alpha\":{\"value\":0.1},\"line_color\":{\"value\":\"#1f77b4\"},\"size\":{\"units\":\"screen\",\"value\":10},\"x\":{\"field\":\"x\"},\"y\":{\"field\":\"y\"}},\"id\":\"3250\",\"type\":\"Circle\"},{\"attributes\":{\"plot\":null,\"text\":\"Loss\"},\"id\":\"3192\",\"type\":\"Title\"},{\"attributes\":{\"line_alpha\":0.1,\"line_color\":\"#1f77b4\",\"line_width\":2,\"x\":{\"field\":\"x\"},\"y\":{\"field\":\"y\"}},\"id\":\"3255\",\"type\":\"Line\"},{\"attributes\":{\"callback\":null,\"data\":{\"x\":[0,1,2,3,4,5,6,7,8,9],\"y\":[0.9456564610203108,0.7930684182792902,0.6951596960425377,0.5557438464214405,0.4235455250988404,0.43295726164554554,0.3534300155006349,0.30309441685676575,0.28181390328488004,0.2546161781841268]},\"selected\":{\"id\":\"3395\",\"type\":\"Selection\"},\"selection_policy\":{\"id\":\"3394\",\"type\":\"UnionRenderers\"}},\"id\":\"3253\",\"type\":\"ColumnDataSource\"},{\"attributes\":{\"callback\":null},\"id\":\"3195\",\"type\":\"DataRange1d\"},{\"attributes\":{},\"id\":\"3267\",\"type\":\"UnionRenderers\"},{\"attributes\":{},\"id\":\"3199\",\"type\":\"LinearScale\"},{\"attributes\":{},\"id\":\"3394\",\"type\":\"UnionRenderers\"},{\"attributes\":{},\"id\":\"3268\",\"type\":\"Selection\"},{\"attributes\":{\"formatter\":{\"id\":\"3240\",\"type\":\"BasicTickFormatter\"},\"plot\":{\"id\":\"3193\",\"subtype\":\"Figure\",\"type\":\"Plot\"},\"ticker\":{\"id\":\"3204\",\"type\":\"BasicTicker\"}},\"id\":\"3203\",\"type\":\"LinearAxis\"},{\"attributes\":{},\"id\":\"3244\",\"type\":\"Selection\"},{\"attributes\":{},\"id\":\"3204\",\"type\":\"BasicTicker\"},{\"attributes\":{\"callback\":null},\"id\":\"3197\",\"type\":\"DataRange1d\"},{\"attributes\":{},\"id\":\"3242\",\"type\":\"BasicTickFormatter\"},{\"attributes\":{},\"id\":\"3214\",\"type\":\"WheelZoomTool\"},{\"attributes\":{\"fill_alpha\":{\"value\":0.5},\"fill_color\":{\"value\":\"orange\"},\"line_color\":{\"value\":\"navy\"},\"size\":{\"units\":\"screen\",\"value\":10},\"x\":{\"field\":\"x\"},\"y\":{\"field\":\"y\"}},\"id\":\"3229\",\"type\":\"Circle\"},{\"attributes\":{\"callback\":null,\"data\":{\"x\":[0,1,2,3,4,5,6,7,8,9],\"y\":[0.9268909394741058,0.9316451549530029,0.692301869392395,0.5703824311494827,0.5069581270217896,0.3409304767847061,0.2958236485719681,0.29897379875183105,0.3140086978673935,0.2564016133546829]},\"selected\":{\"id\":\"3244\",\"type\":\"Selection\"},\"selection_policy\":{\"id\":\"3243\",\"type\":\"UnionRenderers\"}},\"id\":\"3228\",\"type\":\"ColumnDataSource\"},{\"attributes\":{},\"id\":\"3216\",\"type\":\"SaveTool\"},{\"attributes\":{\"overlay\":{\"id\":\"3221\",\"type\":\"BoxAnnotation\"}},\"id\":\"3215\",\"type\":\"BoxZoomTool\"},{\"attributes\":{},\"id\":\"3395\",\"type\":\"Selection\"},{\"attributes\":{\"plot\":{\"id\":\"3193\",\"subtype\":\"Figure\",\"type\":\"Plot\"},\"ticker\":{\"id\":\"3204\",\"type\":\"BasicTicker\"}},\"id\":\"3207\",\"type\":\"Grid\"},{\"attributes\":{\"line_color\":\"red\",\"line_width\":2,\"x\":{\"field\":\"x\"},\"y\":{\"field\":\"y\"}},\"id\":\"3254\",\"type\":\"Line\"},{\"attributes\":{},\"id\":\"3240\",\"type\":\"BasicTickFormatter\"},{\"attributes\":{\"source\":{\"id\":\"3248\",\"type\":\"ColumnDataSource\"}},\"id\":\"3252\",\"type\":\"CDSView\"},{\"attributes\":{\"data_source\":{\"id\":\"3248\",\"type\":\"ColumnDataSource\"},\"glyph\":{\"id\":\"3249\",\"type\":\"Circle\"},\"hover_glyph\":null,\"muted_glyph\":null,\"nonselection_glyph\":{\"id\":\"3250\",\"type\":\"Circle\"},\"selection_glyph\":null,\"view\":{\"id\":\"3252\",\"type\":\"CDSView\"}},\"id\":\"3251\",\"type\":\"GlyphRenderer\"},{\"attributes\":{},\"id\":\"3209\",\"type\":\"BasicTicker\"},{\"attributes\":{\"formatter\":{\"id\":\"3242\",\"type\":\"BasicTickFormatter\"},\"plot\":{\"id\":\"3193\",\"subtype\":\"Figure\",\"type\":\"Plot\"},\"ticker\":{\"id\":\"3209\",\"type\":\"BasicTicker\"}},\"id\":\"3208\",\"type\":\"LinearAxis\"}],\"root_ids\":[\"3193\"]},\"title\":\"Bokeh Application\",\"version\":\"1.0.4\"}};\n",
       "  var render_items = [{\"docid\":\"80f4032e-719b-494e-9e88-22e4ccbd3366\",\"roots\":{\"3193\":\"7e8f4ec7-6caf-4e05-b0c9-421719210fcd\"}}];\n",
       "  root.Bokeh.embed.embed_items_notebook(docs_json, render_items);\n",
       "\n",
       "  }\n",
       "  if (root.Bokeh !== undefined) {\n",
       "    embed_document(root);\n",
       "  } else {\n",
       "    var attempts = 0;\n",
       "    var timer = setInterval(function(root) {\n",
       "      if (root.Bokeh !== undefined) {\n",
       "        embed_document(root);\n",
       "        clearInterval(timer);\n",
       "      }\n",
       "      attempts++;\n",
       "      if (attempts > 100) {\n",
       "        console.log(\"Bokeh: ERROR: Unable to run BokehJS code because BokehJS library is missing\");\n",
       "        clearInterval(timer);\n",
       "      }\n",
       "    }, 10, root)\n",
       "  }\n",
       "})(window);"
      ],
      "application/vnd.bokehjs_exec.v0+json": ""
     },
     "metadata": {
      "application/vnd.bokehjs_exec.v0+json": {
       "id": "3193"
      }
     },
     "output_type": "display_data"
    }
   ],
   "source": [
    "# create a new plot with default tools, using figure\n",
    "p = figure(plot_width=600, plot_height=400, title=\"Loss\")\n",
    "\n",
    "# add a circle renderer with x and y coordinates, size, color, and alpha\n",
    "p.circle(range(len(his['val_loss'])),his['val_loss'], size=10, line_color=\"navy\", fill_color=\"orange\", fill_alpha=0.5)\n",
    "p.line( range(len(his['val_loss'])),his['val_loss'], legend=\"val\", line_width=2)\n",
    "\n",
    "# add a circle renderer with x and y coordinates, size, color, and alpha\n",
    "p.circle(range(len(his['train_loss'])),his['train_loss'], size=10, line_color=\"navy\", fill_color=\"orange\", fill_alpha=0.5)\n",
    "p.line(range(len(his['train_loss'])),his['train_loss'], legend=\"train\",line_width=2,line_color=\"red\")\n",
    "show(p) # show the results\n",
    "# save(p,'./loss_vgg_0.94.html')"
   ]
  },
  {
   "cell_type": "code",
   "execution_count": 37,
   "metadata": {},
   "outputs": [
    {
     "data": {
      "text/html": [
       "\n",
       "\n",
       "\n",
       "\n",
       "\n",
       "\n",
       "  <div class=\"bk-root\" id=\"b1134738-08ff-4813-995d-4149c3030e13\" data-root-id=\"2403\"></div>\n"
      ]
     },
     "metadata": {},
     "output_type": "display_data"
    },
    {
     "data": {
      "application/javascript": [
       "(function(root) {\n",
       "  function embed_document(root) {\n",
       "    \n",
       "  var docs_json = {\"78e8f799-3568-4397-9fde-77415a9fa781\":{\"roots\":{\"references\":[{\"attributes\":{\"below\":[{\"id\":\"2413\",\"type\":\"LinearAxis\"}],\"left\":[{\"id\":\"2418\",\"type\":\"LinearAxis\"}],\"plot_height\":400,\"renderers\":[{\"id\":\"2413\",\"type\":\"LinearAxis\"},{\"id\":\"2417\",\"type\":\"Grid\"},{\"id\":\"2418\",\"type\":\"LinearAxis\"},{\"id\":\"2422\",\"type\":\"Grid\"},{\"id\":\"2431\",\"type\":\"BoxAnnotation\"},{\"id\":\"2441\",\"type\":\"GlyphRenderer\"},{\"id\":\"2456\",\"type\":\"Legend\"},{\"id\":\"2446\",\"type\":\"GlyphRenderer\"},{\"id\":\"2461\",\"type\":\"GlyphRenderer\"},{\"id\":\"2466\",\"type\":\"GlyphRenderer\"}],\"title\":{\"id\":\"2402\",\"type\":\"Title\"},\"toolbar\":{\"id\":\"2429\",\"type\":\"Toolbar\"},\"x_range\":{\"id\":\"2405\",\"type\":\"DataRange1d\"},\"x_scale\":{\"id\":\"2409\",\"type\":\"LinearScale\"},\"y_range\":{\"id\":\"2407\",\"type\":\"DataRange1d\"},\"y_scale\":{\"id\":\"2411\",\"type\":\"LinearScale\"}},\"id\":\"2403\",\"subtype\":\"Figure\",\"type\":\"Plot\"},{\"attributes\":{\"items\":[{\"id\":\"2457\",\"type\":\"LegendItem\"},{\"id\":\"2480\",\"type\":\"LegendItem\"}],\"plot\":{\"id\":\"2403\",\"subtype\":\"Figure\",\"type\":\"Plot\"}},\"id\":\"2456\",\"type\":\"Legend\"},{\"attributes\":{\"line_alpha\":0.1,\"line_color\":\"#1f77b4\",\"line_width\":2,\"x\":{\"field\":\"x\"},\"y\":{\"field\":\"y\"}},\"id\":\"2445\",\"type\":\"Line\"},{\"attributes\":{\"plot\":{\"id\":\"2403\",\"subtype\":\"Figure\",\"type\":\"Plot\"},\"ticker\":{\"id\":\"2414\",\"type\":\"BasicTicker\"}},\"id\":\"2417\",\"type\":\"Grid\"},{\"attributes\":{\"label\":{\"value\":\"train\"},\"renderers\":[{\"id\":\"2466\",\"type\":\"GlyphRenderer\"}]},\"id\":\"2480\",\"type\":\"LegendItem\"},{\"attributes\":{\"callback\":null,\"data\":{\"x\":[0,1,2,3,4,5,6,7,8,9],\"y\":[0.6041666666666666,0.6770833333333333,0.7291666666666666,0.7395833333333333,0.8125,0.7916666666666666,0.8333333333333333,0.8125,0.875,0.8541666666666666]},\"selected\":{\"id\":\"2577\",\"type\":\"Selection\"},\"selection_policy\":{\"id\":\"2576\",\"type\":\"UnionRenderers\"}},\"id\":\"2463\",\"type\":\"ColumnDataSource\"},{\"attributes\":{\"data_source\":{\"id\":\"2443\",\"type\":\"ColumnDataSource\"},\"glyph\":{\"id\":\"2444\",\"type\":\"Line\"},\"hover_glyph\":null,\"muted_glyph\":null,\"nonselection_glyph\":{\"id\":\"2445\",\"type\":\"Line\"},\"selection_glyph\":null,\"view\":{\"id\":\"2447\",\"type\":\"CDSView\"}},\"id\":\"2446\",\"type\":\"GlyphRenderer\"},{\"attributes\":{\"formatter\":{\"id\":\"2452\",\"type\":\"BasicTickFormatter\"},\"plot\":{\"id\":\"2403\",\"subtype\":\"Figure\",\"type\":\"Plot\"},\"ticker\":{\"id\":\"2419\",\"type\":\"BasicTicker\"}},\"id\":\"2418\",\"type\":\"LinearAxis\"},{\"attributes\":{\"label\":{\"value\":\"val\"},\"renderers\":[{\"id\":\"2446\",\"type\":\"GlyphRenderer\"}]},\"id\":\"2457\",\"type\":\"LegendItem\"},{\"attributes\":{\"source\":{\"id\":\"2443\",\"type\":\"ColumnDataSource\"}},\"id\":\"2447\",\"type\":\"CDSView\"},{\"attributes\":{},\"id\":\"2419\",\"type\":\"BasicTicker\"},{\"attributes\":{},\"id\":\"2577\",\"type\":\"Selection\"},{\"attributes\":{},\"id\":\"2450\",\"type\":\"BasicTickFormatter\"},{\"attributes\":{\"callback\":null},\"id\":\"2405\",\"type\":\"DataRange1d\"},{\"attributes\":{\"dimension\":1,\"plot\":{\"id\":\"2403\",\"subtype\":\"Figure\",\"type\":\"Plot\"},\"ticker\":{\"id\":\"2419\",\"type\":\"BasicTicker\"}},\"id\":\"2422\",\"type\":\"Grid\"},{\"attributes\":{},\"id\":\"2409\",\"type\":\"LinearScale\"},{\"attributes\":{},\"id\":\"2452\",\"type\":\"BasicTickFormatter\"},{\"attributes\":{},\"id\":\"2411\",\"type\":\"LinearScale\"},{\"attributes\":{\"fill_alpha\":{\"value\":0.1},\"fill_color\":{\"value\":\"#1f77b4\"},\"line_alpha\":{\"value\":0.1},\"line_color\":{\"value\":\"#1f77b4\"},\"size\":{\"units\":\"screen\",\"value\":10},\"x\":{\"field\":\"x\"},\"y\":{\"field\":\"y\"}},\"id\":\"2440\",\"type\":\"Circle\"},{\"attributes\":{},\"id\":\"2453\",\"type\":\"UnionRenderers\"},{\"attributes\":{\"callback\":null,\"data\":{\"x\":[0,1,2,3,4,5,6,7,8,9],\"y\":[0.625,0.625,0.625,0.8125,0.6875,0.9375,0.8125,0.8125,0.875,0.9375]},\"selected\":{\"id\":\"2476\",\"type\":\"Selection\"},\"selection_policy\":{\"id\":\"2475\",\"type\":\"UnionRenderers\"}},\"id\":\"2443\",\"type\":\"ColumnDataSource\"},{\"attributes\":{\"line_color\":\"#1f77b4\",\"line_width\":2,\"x\":{\"field\":\"x\"},\"y\":{\"field\":\"y\"}},\"id\":\"2444\",\"type\":\"Line\"},{\"attributes\":{\"fill_alpha\":{\"value\":0.5},\"fill_color\":{\"value\":\"orange\"},\"line_color\":{\"value\":\"navy\"},\"size\":{\"units\":\"screen\",\"value\":10},\"x\":{\"field\":\"x\"},\"y\":{\"field\":\"y\"}},\"id\":\"2439\",\"type\":\"Circle\"},{\"attributes\":{},\"id\":\"2454\",\"type\":\"Selection\"},{\"attributes\":{},\"id\":\"2423\",\"type\":\"PanTool\"},{\"attributes\":{\"data_source\":{\"id\":\"2458\",\"type\":\"ColumnDataSource\"},\"glyph\":{\"id\":\"2459\",\"type\":\"Circle\"},\"hover_glyph\":null,\"muted_glyph\":null,\"nonselection_glyph\":{\"id\":\"2460\",\"type\":\"Circle\"},\"selection_glyph\":null,\"view\":{\"id\":\"2462\",\"type\":\"CDSView\"}},\"id\":\"2461\",\"type\":\"GlyphRenderer\"},{\"attributes\":{},\"id\":\"2424\",\"type\":\"WheelZoomTool\"},{\"attributes\":{\"source\":{\"id\":\"2458\",\"type\":\"ColumnDataSource\"}},\"id\":\"2462\",\"type\":\"CDSView\"},{\"attributes\":{\"overlay\":{\"id\":\"2431\",\"type\":\"BoxAnnotation\"}},\"id\":\"2425\",\"type\":\"BoxZoomTool\"},{\"attributes\":{},\"id\":\"2426\",\"type\":\"SaveTool\"},{\"attributes\":{\"line_color\":\"red\",\"line_width\":2,\"x\":{\"field\":\"x\"},\"y\":{\"field\":\"y\"}},\"id\":\"2464\",\"type\":\"Line\"},{\"attributes\":{},\"id\":\"2427\",\"type\":\"ResetTool\"},{\"attributes\":{\"line_alpha\":0.1,\"line_color\":\"#1f77b4\",\"line_width\":2,\"x\":{\"field\":\"x\"},\"y\":{\"field\":\"y\"}},\"id\":\"2465\",\"type\":\"Line\"},{\"attributes\":{\"callback\":null},\"id\":\"2407\",\"type\":\"DataRange1d\"},{\"attributes\":{},\"id\":\"2576\",\"type\":\"UnionRenderers\"},{\"attributes\":{},\"id\":\"2428\",\"type\":\"HelpTool\"},{\"attributes\":{\"data_source\":{\"id\":\"2463\",\"type\":\"ColumnDataSource\"},\"glyph\":{\"id\":\"2464\",\"type\":\"Line\"},\"hover_glyph\":null,\"muted_glyph\":null,\"nonselection_glyph\":{\"id\":\"2465\",\"type\":\"Line\"},\"selection_glyph\":null,\"view\":{\"id\":\"2467\",\"type\":\"CDSView\"}},\"id\":\"2466\",\"type\":\"GlyphRenderer\"},{\"attributes\":{\"plot\":null,\"text\":\"Accuracy\"},\"id\":\"2402\",\"type\":\"Title\"},{\"attributes\":{\"active_drag\":\"auto\",\"active_inspect\":\"auto\",\"active_multi\":null,\"active_scroll\":\"auto\",\"active_tap\":\"auto\",\"tools\":[{\"id\":\"2423\",\"type\":\"PanTool\"},{\"id\":\"2424\",\"type\":\"WheelZoomTool\"},{\"id\":\"2425\",\"type\":\"BoxZoomTool\"},{\"id\":\"2426\",\"type\":\"SaveTool\"},{\"id\":\"2427\",\"type\":\"ResetTool\"},{\"id\":\"2428\",\"type\":\"HelpTool\"}]},\"id\":\"2429\",\"type\":\"Toolbar\"},{\"attributes\":{\"fill_alpha\":{\"value\":0.5},\"fill_color\":{\"value\":\"orange\"},\"line_color\":{\"value\":\"navy\"},\"size\":{\"units\":\"screen\",\"value\":10},\"x\":{\"field\":\"x\"},\"y\":{\"field\":\"y\"}},\"id\":\"2459\",\"type\":\"Circle\"},{\"attributes\":{\"source\":{\"id\":\"2463\",\"type\":\"ColumnDataSource\"}},\"id\":\"2467\",\"type\":\"CDSView\"},{\"attributes\":{\"data_source\":{\"id\":\"2438\",\"type\":\"ColumnDataSource\"},\"glyph\":{\"id\":\"2439\",\"type\":\"Circle\"},\"hover_glyph\":null,\"muted_glyph\":null,\"nonselection_glyph\":{\"id\":\"2440\",\"type\":\"Circle\"},\"selection_glyph\":null,\"view\":{\"id\":\"2442\",\"type\":\"CDSView\"}},\"id\":\"2441\",\"type\":\"GlyphRenderer\"},{\"attributes\":{\"formatter\":{\"id\":\"2450\",\"type\":\"BasicTickFormatter\"},\"plot\":{\"id\":\"2403\",\"subtype\":\"Figure\",\"type\":\"Plot\"},\"ticker\":{\"id\":\"2414\",\"type\":\"BasicTicker\"}},\"id\":\"2413\",\"type\":\"LinearAxis\"},{\"attributes\":{\"callback\":null,\"data\":{\"x\":[0,1,2,3,4,5,6,7,8,9],\"y\":[0.6041666666666666,0.6770833333333333,0.7291666666666666,0.7395833333333333,0.8125,0.7916666666666666,0.8333333333333333,0.8125,0.875,0.8541666666666666]},\"selected\":{\"id\":\"2478\",\"type\":\"Selection\"},\"selection_policy\":{\"id\":\"2477\",\"type\":\"UnionRenderers\"}},\"id\":\"2458\",\"type\":\"ColumnDataSource\"},{\"attributes\":{},\"id\":\"2475\",\"type\":\"UnionRenderers\"},{\"attributes\":{\"bottom_units\":\"screen\",\"fill_alpha\":{\"value\":0.5},\"fill_color\":{\"value\":\"lightgrey\"},\"left_units\":\"screen\",\"level\":\"overlay\",\"line_alpha\":{\"value\":1.0},\"line_color\":{\"value\":\"black\"},\"line_dash\":[4,4],\"line_width\":{\"value\":2},\"plot\":null,\"render_mode\":\"css\",\"right_units\":\"screen\",\"top_units\":\"screen\"},\"id\":\"2431\",\"type\":\"BoxAnnotation\"},{\"attributes\":{\"callback\":null,\"data\":{\"x\":[0,1,2,3,4,5,6,7,8,9],\"y\":[0.625,0.625,0.625,0.8125,0.6875,0.9375,0.8125,0.8125,0.875,0.9375]},\"selected\":{\"id\":\"2454\",\"type\":\"Selection\"},\"selection_policy\":{\"id\":\"2453\",\"type\":\"UnionRenderers\"}},\"id\":\"2438\",\"type\":\"ColumnDataSource\"},{\"attributes\":{},\"id\":\"2476\",\"type\":\"Selection\"},{\"attributes\":{\"source\":{\"id\":\"2438\",\"type\":\"ColumnDataSource\"}},\"id\":\"2442\",\"type\":\"CDSView\"},{\"attributes\":{},\"id\":\"2477\",\"type\":\"UnionRenderers\"},{\"attributes\":{},\"id\":\"2414\",\"type\":\"BasicTicker\"},{\"attributes\":{},\"id\":\"2478\",\"type\":\"Selection\"},{\"attributes\":{\"fill_alpha\":{\"value\":0.1},\"fill_color\":{\"value\":\"#1f77b4\"},\"line_alpha\":{\"value\":0.1},\"line_color\":{\"value\":\"#1f77b4\"},\"size\":{\"units\":\"screen\",\"value\":10},\"x\":{\"field\":\"x\"},\"y\":{\"field\":\"y\"}},\"id\":\"2460\",\"type\":\"Circle\"}],\"root_ids\":[\"2403\"]},\"title\":\"Bokeh Application\",\"version\":\"1.0.4\"}};\n",
       "  var render_items = [{\"docid\":\"78e8f799-3568-4397-9fde-77415a9fa781\",\"roots\":{\"2403\":\"b1134738-08ff-4813-995d-4149c3030e13\"}}];\n",
       "  root.Bokeh.embed.embed_items_notebook(docs_json, render_items);\n",
       "\n",
       "  }\n",
       "  if (root.Bokeh !== undefined) {\n",
       "    embed_document(root);\n",
       "  } else {\n",
       "    var attempts = 0;\n",
       "    var timer = setInterval(function(root) {\n",
       "      if (root.Bokeh !== undefined) {\n",
       "        embed_document(root);\n",
       "        clearInterval(timer);\n",
       "      }\n",
       "      attempts++;\n",
       "      if (attempts > 100) {\n",
       "        console.log(\"Bokeh: ERROR: Unable to run BokehJS code because BokehJS library is missing\");\n",
       "        clearInterval(timer);\n",
       "      }\n",
       "    }, 10, root)\n",
       "  }\n",
       "})(window);"
      ],
      "application/vnd.bokehjs_exec.v0+json": ""
     },
     "metadata": {
      "application/vnd.bokehjs_exec.v0+json": {
       "id": "2403"
      }
     },
     "output_type": "display_data"
    },
    {
     "data": {
      "text/plain": [
       "'/home/vladimir_danilov0000/acc_vgg_0.94.html'"
      ]
     },
     "execution_count": 37,
     "metadata": {},
     "output_type": "execute_result"
    }
   ],
   "source": [
    "# create a new plot with default tools, using figure\n",
    "p = figure(plot_width=600, plot_height=400, title=\"Accuracy\")\n",
    "\n",
    "# add a circle renderer with x and y coordinates, size, color, and alpha\n",
    "p.circle(range(len(his['val_acc'])),his['val_acc'], size=10, line_color=\"navy\", fill_color=\"orange\", fill_alpha=0.5)\n",
    "p.line( range(len(his['val_acc'])),his['val_acc'], legend=\"val\", line_width=2)\n",
    "\n",
    "# add a circle renderer with x and y coordinates, size, color, and alpha\n",
    "p.circle(range(len(his['train_acc'])),his['train_acc'], size=10, line_color=\"navy\", fill_color=\"orange\", fill_alpha=0.5)\n",
    "p.line(range(len(his['train_acc'])),his['train_acc'], legend=\"train\", line_width=2,line_color=\"red\")\n",
    "show(p) # show the results\n",
    "save(p,'./acc_vgg_0.94.html')"
   ]
  },
  {
   "cell_type": "code",
   "execution_count": 38,
   "metadata": {},
   "outputs": [],
   "source": [
    "torch.save(model_ft.state_dict(), './acc_vgg_0.94.pth')\n"
   ]
  },
  {
   "cell_type": "code",
   "execution_count": 39,
   "metadata": {},
   "outputs": [],
   "source": [
    "vgg.load_state_dict(torch.load('./acc_vgg_0.94.pth'))"
   ]
  },
  {
   "cell_type": "code",
   "execution_count": 40,
   "metadata": {},
   "outputs": [],
   "source": [
    "vgg = vgg.to(device)"
   ]
  },
  {
   "cell_type": "code",
   "execution_count": 45,
   "metadata": {},
   "outputs": [],
   "source": [
    "running_loss = 0.0\n",
    "running_corrects = 0\n",
    "for inputs, labels in data_val:\n",
    "    inputs = inputs.to(device)\n",
    "    labels = labels.to(device)\n",
    "    # zero the parameter gradients\n",
    "#     optimizer.zero_grad()\n",
    "    with torch.set_grad_enabled(False):\n",
    "        outputs = vgg(inputs)\n",
    "        _, preds = torch.max(outputs, 1)\n",
    "        loss = criterion(outputs, labels)\n",
    "         # statistics\n",
    "        running_loss += loss.item() * inputs.size(0)\n",
    "        running_corrects += torch.sum(preds == labels.data)\n"
   ]
  },
  {
   "cell_type": "code",
   "execution_count": 46,
   "metadata": {},
   "outputs": [
    {
     "data": {
      "text/plain": [
       "(0.3714132755994797, 0.9375)"
      ]
     },
     "execution_count": 46,
     "metadata": {},
     "output_type": "execute_result"
    }
   ],
   "source": [
    "running_loss/sizes['val'],running_corrects.item()/sizes['val']"
   ]
  },
  {
   "cell_type": "code",
   "execution_count": null,
   "metadata": {},
   "outputs": [],
   "source": []
  }
 ],
 "metadata": {
  "kernelspec": {
   "display_name": "Python 3",
   "language": "python",
   "name": "python3"
  },
  "language_info": {
   "codemirror_mode": {
    "name": "ipython",
    "version": 3
   },
   "file_extension": ".py",
   "mimetype": "text/x-python",
   "name": "python",
   "nbconvert_exporter": "python",
   "pygments_lexer": "ipython3",
   "version": "3.7.2"
  }
 },
 "nbformat": 4,
 "nbformat_minor": 2
}
